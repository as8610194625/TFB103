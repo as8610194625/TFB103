{
 "cells": [
  {
   "cell_type": "code",
   "execution_count": 1,
   "source": [
    "import pymysql"
   ],
   "outputs": [],
   "metadata": {
    "scrolled": true
   }
  },
  {
   "cell_type": "code",
   "execution_count": 2,
   "source": [
    "loginInfo = {\r\n",
    "    'host': 'localhost',\r\n",
    "    'port': 3306,\r\n",
    "    'user': 'root',\r\n",
    "    'passwd': '0000',\r\n",
    "    'db': 'TESTDB',\r\n",
    "    'charset': 'utf8mb4'\r\n",
    "}"
   ],
   "outputs": [],
   "metadata": {}
  },
  {
   "cell_type": "code",
   "execution_count": 3,
   "source": [
    "conn = pymysql.connect(host='localhost', port=3306, user='root', passwd='0000', db='TESTDB', charset='utf8mb4')"
   ],
   "outputs": [],
   "metadata": {}
  },
  {
   "cell_type": "code",
   "execution_count": 4,
   "source": [
    "cursor = conn.cursor()"
   ],
   "outputs": [],
   "metadata": {}
  },
  {
   "cell_type": "code",
   "execution_count": 5,
   "source": [
    "import json\r\n",
    "import time\r\n",
    "\r\n",
    "path = 'Staff.json'\r\n",
    "with open(path, 'r', encoding='utf-8') as f:\r\n",
    "    jsondata = json.loads(f.read())\r\n",
    "\r\n",
    "jsondata"
   ],
   "outputs": [
    {
     "output_type": "execute_result",
     "data": {
      "text/plain": [
       "{'001': {'ID': '001',\n",
       "  'Name': 'Mike',\n",
       "  'DeptId': '002',\n",
       "  'Age': '45',\n",
       "  'Gender': 'M',\n",
       "  'Salary': '60000'},\n",
       " '002': {'ID': '002',\n",
       "  'Name': 'Judy',\n",
       "  'DeptId': '002',\n",
       "  'Age': '30',\n",
       "  'Gender': 'F',\n",
       "  'Salary': '48000'},\n",
       " '003': {'ID': '003',\n",
       "  'Name': 'Allen',\n",
       "  'DeptId': '001',\n",
       "  'Age': '22',\n",
       "  'Gender': 'M',\n",
       "  'Salary': '50000'},\n",
       " '004': {'ID': '004',\n",
       "  'Name': 'Tom',\n",
       "  'DeptId': '002',\n",
       "  'Age': '47',\n",
       "  'Gender': 'M',\n",
       "  'Salary': '47000'},\n",
       " '005': {'ID': '005',\n",
       "  'Name': 'Jack',\n",
       "  'DeptId': '003',\n",
       "  'Age': '36',\n",
       "  'Gender': 'M',\n",
       "  'Salary': '52000'},\n",
       " '006': {'ID': '006',\n",
       "  'Name': 'Abby',\n",
       "  'DeptId': '002',\n",
       "  'Age': '24',\n",
       "  'Gender': 'F',\n",
       "  'Salary': '45000'},\n",
       " '007': {'ID': '007',\n",
       "  'Name': 'Trump',\n",
       "  'DeptId': '001',\n",
       "  'Age': '80',\n",
       "  'Gender': 'M',\n",
       "  'Salary': '80000'},\n",
       " '008': {'ID': '008',\n",
       "  'Name': 'Marry',\n",
       "  'DeptId': '003',\n",
       "  'Age': '29',\n",
       "  'Gender': 'F',\n",
       "  'Salary': '87000'}}"
      ]
     },
     "metadata": {},
     "execution_count": 5
    }
   ],
   "metadata": {}
  },
  {
   "cell_type": "code",
   "execution_count": 12,
   "source": [
    "# 先寫好 SQL 語法\r\n",
    "# 並將語法中會不斷改變的部分挖空 ( %s )\r\n",
    "sql_insert = \"\"\"\r\n",
    "INSERT INTO Staff (ID, Name, DeptId, Age, Gender, Salary, recordDt)\r\n",
    "VALUES (%s, %s, %s, %s, %s, %s, %s);\r\n",
    "\"\"\""
   ],
   "outputs": [],
   "metadata": {}
  },
  {
   "cell_type": "code",
   "execution_count": 13,
   "source": [
    "# 整理 jsondata 成可 insert 進資料庫的樣子，格式如下\r\n",
    "'''\r\n",
    "[('001', 'Mike', '002', '45', 'M', '60000', '2020-10-13 21:41:49'),\r\n",
    " ('002', 'Judy', '002', '30', 'F', '48000', '2020-10-13 21:41:49'),\r\n",
    " ('003', 'Allen', '001', '22', 'M', '50000', '2020-10-13 21:41:49'),\r\n",
    " ('004', 'Tom', '002', '47', 'M', '47000', '2020-10-13 21:41:49'),\r\n",
    " ('005', 'Jack', '003', '36', 'M', '52000', '2020-10-13 21:41:49'),\r\n",
    " ('006', 'Abby', '002', '24', 'F', '45000', '2020-10-13 21:41:49'),\r\n",
    " ('007', 'Trump', '001', '80', 'M', '80000', '2020-10-13 21:41:49'),\r\n",
    " ('008', 'Marry', '003', '29', 'F', '87000', '2020-10-13 21:41:49')]\r\n",
    "'''\r\n",
    "import time\r\n",
    "t = time.strftime('%Y-%m-%d %H:%M:%S', time.localtime())\r\n",
    "values = [tuple(jsondata[d].values()) + (t,) for d in jsondata]\r\n",
    "values"
   ],
   "outputs": [
    {
     "output_type": "execute_result",
     "data": {
      "text/plain": [
       "[('001', 'Mike', '002', '45', 'M', '60000', '2021-08-21 16:04:51'),\n",
       " ('002', 'Judy', '002', '30', 'F', '48000', '2021-08-21 16:04:51'),\n",
       " ('003', 'Allen', '001', '22', 'M', '50000', '2021-08-21 16:04:51'),\n",
       " ('004', 'Tom', '002', '47', 'M', '47000', '2021-08-21 16:04:51'),\n",
       " ('005', 'Jack', '003', '36', 'M', '52000', '2021-08-21 16:04:51'),\n",
       " ('006', 'Abby', '002', '24', 'F', '45000', '2021-08-21 16:04:51'),\n",
       " ('007', 'Trump', '001', '80', 'M', '80000', '2021-08-21 16:04:51'),\n",
       " ('008', 'Marry', '003', '29', 'F', '87000', '2021-08-21 16:04:51')]"
      ]
     },
     "metadata": {},
     "execution_count": 13
    }
   ],
   "metadata": {}
  },
  {
   "cell_type": "code",
   "execution_count": 11,
   "source": [],
   "outputs": [],
   "metadata": {}
  },
  {
   "cell_type": "code",
   "execution_count": 15,
   "source": [
    "# 將 SQL 批量執行\r\n",
    "print('新增資料筆數:', cursor.executemany(sql_insert, values))\r\n",
    "\r\n",
    "# Commit 並檢查資料是否存入資料庫\r\n",
    "conn.commit()"
   ],
   "outputs": [
    {
     "output_type": "stream",
     "name": "stdout",
     "text": [
      "新增資料筆數: 8\n"
     ]
    }
   ],
   "metadata": {}
  },
  {
   "cell_type": "code",
   "execution_count": 16,
   "source": [
    "sql = \"\"\"\r\n",
    "SELECT * from Staff;\r\n",
    "\"\"\"\r\n",
    "cursor.execute(sql)"
   ],
   "outputs": [
    {
     "output_type": "execute_result",
     "data": {
      "text/plain": [
       "8"
      ]
     },
     "metadata": {},
     "execution_count": 16
    }
   ],
   "metadata": {}
  },
  {
   "cell_type": "code",
   "execution_count": 17,
   "source": [
    "data = cursor.fetchall()\r\n",
    "for d in data:\r\n",
    "    print(d)"
   ],
   "outputs": [
    {
     "output_type": "stream",
     "name": "stdout",
     "text": [
      "('001', 'Mike', '002', 45, 'M', 60000, datetime.datetime(2021, 8, 21, 16, 4, 51))\n",
      "('002', 'Judy', '002', 30, 'F', 48000, datetime.datetime(2021, 8, 21, 16, 4, 51))\n",
      "('003', 'Allen', '001', 22, 'M', 50000, datetime.datetime(2021, 8, 21, 16, 4, 51))\n",
      "('004', 'Tom', '002', 47, 'M', 47000, datetime.datetime(2021, 8, 21, 16, 4, 51))\n",
      "('005', 'Jack', '003', 36, 'M', 52000, datetime.datetime(2021, 8, 21, 16, 4, 51))\n",
      "('006', 'Abby', '002', 24, 'F', 45000, datetime.datetime(2021, 8, 21, 16, 4, 51))\n",
      "('007', 'Trump', '001', 80, 'M', 80000, datetime.datetime(2021, 8, 21, 16, 4, 51))\n",
      "('008', 'Marry', '003', 29, 'F', 87000, datetime.datetime(2021, 8, 21, 16, 4, 51))\n"
     ]
    }
   ],
   "metadata": {}
  },
  {
   "cell_type": "code",
   "execution_count": 18,
   "source": [
    "conn.commit()\r\n",
    "cursor.close()\r\n",
    "conn.close()"
   ],
   "outputs": [],
   "metadata": {}
  },
  {
   "cell_type": "code",
   "execution_count": null,
   "source": [],
   "outputs": [],
   "metadata": {}
  }
 ],
 "metadata": {
  "kernelspec": {
   "name": "python3",
   "display_name": "Python 3.8.10 64-bit ('TFB103': conda)"
  },
  "language_info": {
   "codemirror_mode": {
    "name": "ipython",
    "version": 3
   },
   "file_extension": ".py",
   "mimetype": "text/x-python",
   "name": "python",
   "nbconvert_exporter": "python",
   "pygments_lexer": "ipython3",
   "version": "3.8.10"
  },
  "toc": {
   "base_numbering": 1,
   "nav_menu": {},
   "number_sections": true,
   "sideBar": true,
   "skip_h1_title": false,
   "title_cell": "Table of Contents",
   "title_sidebar": "Contents",
   "toc_cell": false,
   "toc_position": {},
   "toc_section_display": true,
   "toc_window_display": false
  },
  "interpreter": {
   "hash": "46a0ee977057065ce004d09a9117f7f18c84c7e880d783614269b8c94aabee85"
  }
 },
 "nbformat": 4,
 "nbformat_minor": 5
}