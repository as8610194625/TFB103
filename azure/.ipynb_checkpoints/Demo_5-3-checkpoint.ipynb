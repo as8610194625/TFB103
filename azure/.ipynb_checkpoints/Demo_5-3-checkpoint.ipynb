{
 "cells": [
  {
   "cell_type": "markdown",
   "metadata": {},
   "source": [
    "# Azure Congnative Service - Computer vision - content tagging"
   ]
  },
  {
   "cell_type": "markdown",
   "metadata": {},
   "source": [
    "# 使用網路URL執行內容標記服務操作"
   ]
  },
  {
   "cell_type": "code",
   "execution_count": 1,
   "metadata": {},
   "outputs": [
    {
     "name": "stdout",
     "output_type": "stream",
     "text": [
      "===== Tag an image - remote =====\n",
      "Tags in the remote image: \n",
      "'building' with confidence 99.92%\n",
      "'outdoor' with confidence 97.66%\n",
      "'sky' with confidence 93.79%\n",
      "'ruins' with confidence 76.13%\n",
      "'amphitheatre' with confidence 56.34%\n"
     ]
    }
   ],
   "source": [
    "from azure.cognitiveservices.vision.computervision import ComputerVisionClient\n",
    "from msrest.authentication import CognitiveServicesCredentials\n",
    "\n",
    "# Set API key.\n",
    "subscription_key = '20b1ffc3e3f04fd29d772f65a1d7fa2d'\n",
    "\n",
    "# Set endpoint.\n",
    "endpoint = 'https://azurecourse.cognitiveservices.azure.com/'\n",
    "\n",
    "# Call API\n",
    "computervision_client = ComputerVisionClient(endpoint, CognitiveServicesCredentials(subscription_key))\n",
    "\n",
    "    \n",
    "remote_image_url = \"https://raw.githubusercontent.com/Azure-Samples/cognitive-services-sample-data-files/master/ComputerVision/Images/landmark.jpg\"\n",
    "\n",
    "'''\n",
    "Tag an Image - remote\n",
    "This example returns a tag (key word) for each thing in the image.\n",
    "'''\n",
    "print(\"===== Tag an image - remote =====\")\n",
    "# Call API with remote image\n",
    "tags_result_remote = computervision_client.tag_image(remote_image_url )\n",
    "\n",
    "# Print results with confidence score\n",
    "print(\"Tags in the remote image: \")\n",
    "if (len(tags_result_remote.tags) == 0):\n",
    "    print(\"No tags detected.\")\n",
    "else:\n",
    "    for tag in tags_result_remote.tags:\n",
    "        print(\"'{}' with confidence {:.2f}%\".format(tag.name, tag.confidence * 100))"
   ]
  },
  {
   "cell_type": "markdown",
   "metadata": {},
   "source": [
    "# 上傳本機圖檔執行內容標記服務操作"
   ]
  },
  {
   "cell_type": "code",
   "execution_count": 4,
   "metadata": {},
   "outputs": [
    {
     "name": "stdout",
     "output_type": "stream",
     "text": [
      "===== Tag an image - remote =====\n",
      "Tags in the local image: \n",
      "'outdoor' with confidence 99.78%\n",
      "'smile' with confidence 99.74%\n",
      "'person' with confidence 99.44%\n",
      "'human face' with confidence 98.33%\n",
      "'clothing' with confidence 95.45%\n",
      "'posing' with confidence 94.29%\n",
      "'woman' with confidence 86.67%\n",
      "'girl' with confidence 79.46%\n",
      "'group' with confidence 77.96%\n",
      "'happy' with confidence 59.90%\n",
      "'people' with confidence 55.69%\n",
      "'crowd' with confidence 1.97%\n"
     ]
    }
   ],
   "source": [
    "from azure.cognitiveservices.vision.computervision import ComputerVisionClient\n",
    "from msrest.authentication import CognitiveServicesCredentials\n",
    "import os\n",
    "\n",
    "# Set API key.\n",
    "subscription_key = '29773b9c2ca448ff9eab8c811b833d3a'\n",
    "\n",
    "# Set endpoint.\n",
    "endpoint = 'https://cvisaac60103.cognitiveservices.azure.com/'\n",
    "\n",
    "# Call API\n",
    "computervision_client = ComputerVisionClient(endpoint, CognitiveServicesCredentials(subscription_key))\n",
    " \n",
    "# 指定圖檔\n",
    "local_image_path = os.getcwd() + '/faces.jpg'\n",
    "\n",
    "# 讀取圖片\n",
    "local_image = open(local_image_path, \"rb\")\n",
    "\n",
    "'''\n",
    "Tag an Image - local\n",
    "This example returns a tag (key word) for each thing in the image.\n",
    "'''\n",
    "print(\"===== Tag an image - remote =====\")\n",
    "# Call API with local image\n",
    "tags_result_local = computervision_client.tag_image_in_stream(local_image)\n",
    "\n",
    "\n",
    "# Print results with confidence score\n",
    "print(\"Tags in the local image: \")\n",
    "if (len(tags_result_local.tags) == 0):\n",
    "    print(\"No tags detected.\")\n",
    "else:\n",
    "    for tag in tags_result_local.tags:\n",
    "        print(\"'{}' with confidence {:.2f}%\".format(tag.name, tag.confidence * 100))"
   ]
  },
  {
   "cell_type": "code",
   "execution_count": null,
   "metadata": {},
   "outputs": [],
   "source": []
  }
 ],
 "metadata": {
  "kernelspec": {
   "display_name": "Python 3",
   "language": "python",
   "name": "python3"
  },
  "language_info": {
   "codemirror_mode": {
    "name": "ipython",
    "version": 3
   },
   "file_extension": ".py",
   "mimetype": "text/x-python",
   "name": "python",
   "nbconvert_exporter": "python",
   "pygments_lexer": "ipython3",
   "version": "3.8.11"
  },
  "toc": {
   "base_numbering": 1,
   "nav_menu": {},
   "number_sections": true,
   "sideBar": true,
   "skip_h1_title": false,
   "title_cell": "Table of Contents",
   "title_sidebar": "Contents",
   "toc_cell": false,
   "toc_position": {},
   "toc_section_display": true,
   "toc_window_display": false
  }
 },
 "nbformat": 4,
 "nbformat_minor": 4
}
