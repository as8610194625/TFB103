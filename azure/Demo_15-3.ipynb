{
 "cells": [
  {
   "cell_type": "markdown",
   "metadata": {},
   "source": [
    "# 執行LUIS意圖辨識服務操作"
   ]
  },
  {
   "cell_type": "markdown",
   "metadata": {},
   "source": [
    "## REST API"
   ]
  },
  {
   "cell_type": "code",
   "execution_count": 2,
   "metadata": {},
   "outputs": [
    {
     "name": "stdout",
     "output_type": "stream",
     "text": [
      "{'query': 'turn on all lights', 'prediction': {'topIntent': 'HomeAutomation.TurnOn', 'intents': {'HomeAutomation.TurnOn': {'score': 0.5375382}, 'None': {'score': 0.08687421}, 'HomeAutomation.TurnOff': {'score': 0.0207554}}, 'entities': {'HomeAutomation.Operation': ['on'], '$instance': {'HomeAutomation.Operation': [{'type': 'HomeAutomation.Operation', 'text': 'on', 'startIndex': 5, 'length': 2, 'score': 0.72498417, 'modelTypeId': -1, 'modelType': 'Unknown', 'recognitionSources': ['model']}]}}}}\n"
     ]
    }
   ],
   "source": [
    "import requests\n",
    "\n",
    "try:\n",
    "\n",
    "    key = '5b39296fc72846558cd03de3ef091903' # your Runtime key\n",
    "    endpoint = 'westus.api.cognitive.microsoft.com' # such as 'your-resource-name.api.cognitive.microsoft.com'\n",
    "    appId = 'df67dcdb-c37d-46af-88e1-8b97951ca1c2'\n",
    "    utterance = 'turn on all lights'\n",
    "\n",
    "    headers = {\n",
    "    }\n",
    "\n",
    "    params ={\n",
    "        'query': utterance,\n",
    "        'timezoneOffset': '0',\n",
    "        'verbose': 'true',\n",
    "        'show-all-intents': 'true',\n",
    "        'spellCheck': 'false',\n",
    "        'staging': 'false',\n",
    "        'subscription-key': key\n",
    "    }\n",
    "\n",
    "    r = requests.get(f'https://{endpoint}/luis/prediction/v3.0/apps/{appId}/slots/production/predict',headers=headers, params=params)\n",
    "    print(r.json())\n",
    "\n",
    "except Exception as e:\n",
    "    print(f'{e}')"
   ]
  },
  {
   "cell_type": "markdown",
   "metadata": {},
   "source": [
    "## SDK"
   ]
  },
  {
   "cell_type": "code",
   "execution_count": 8,
   "metadata": {},
   "outputs": [
    {
     "name": "stdout",
     "output_type": "stream",
     "text": [
      "Top intent: HomeAutomation.SetDevice\n",
      "Sentiment: None\n",
      "Intents: \n",
      "\t\"HomeAutomation.SetDevice\"\n",
      "Entities: {'HomeAutomation.Location': ['table']}\n"
     ]
    }
   ],
   "source": [
    "from azure.cognitiveservices.language.luis.runtime import LUISRuntimeClient\n",
    "from msrest.authentication import CognitiveServicesCredentials\n",
    "\n",
    "import datetime, json, os, time\n",
    "\n",
    "# Use public app ID or replace with your own trained and published app's ID\n",
    "# to query your own app\n",
    "# public appID = 'df67dcdb-c37d-46af-88e1-8b97951ca1c2'\n",
    "luisAppID = 'ef03f64e-9605-407d-a280-5c1c2225fef3'\n",
    "runtime_key = '12e127143e69458b9c263a6b1d8808c5'\n",
    "runtime_endpoint = 'https://tfb103luis.cognitiveservices.azure.com/'\n",
    "\n",
    "# production or staging\n",
    "luisSlotName = 'production'\n",
    "\n",
    "# Instantiate a LUIS runtime client\n",
    "clientRuntime = LUISRuntimeClient(runtime_endpoint, CognitiveServicesCredentials(runtime_key))\n",
    "\n",
    "def predict(app_id, slot_name):\n",
    "\n",
    "    request = { \"query\" : \"hi, show me table\" }\n",
    "\n",
    "    # Note be sure to specify, using the slot_name parameter, whether your application is in staging or \\\n",
    "    # production.\n",
    "    response = clientRuntime.prediction.get_slot_prediction(app_id=app_id, slot_name=slot_name, \\\n",
    "                                                            prediction_request=request)\n",
    "\n",
    "    print(\"Top intent: {}\".format(response.prediction.top_intent))\n",
    "    print(\"Sentiment: {}\".format (response.prediction.sentiment))\n",
    "    print(\"Intents: \")\n",
    "\n",
    "    for intent in response.prediction.intents:\n",
    "        print(\"\\t{}\".format (json.dumps (intent)))\n",
    "    print(\"Entities: {}\".format (response.prediction.entities))\n",
    "    \n",
    "predict(luisAppID, luisSlotName)"
   ]
  },
  {
   "cell_type": "code",
   "execution_count": null,
   "metadata": {},
   "outputs": [],
   "source": []
  }
 ],
 "metadata": {
  "kernelspec": {
   "display_name": "Python 3",
   "language": "python",
   "name": "python3"
  },
  "language_info": {
   "codemirror_mode": {
    "name": "ipython",
    "version": 3
   },
   "file_extension": ".py",
   "mimetype": "text/x-python",
   "name": "python",
   "nbconvert_exporter": "python",
   "pygments_lexer": "ipython3",
   "version": "3.8.11"
  },
  "toc": {
   "base_numbering": 1,
   "nav_menu": {},
   "number_sections": true,
   "sideBar": true,
   "skip_h1_title": false,
   "title_cell": "Table of Contents",
   "title_sidebar": "Contents",
   "toc_cell": false,
   "toc_position": {},
   "toc_section_display": true,
   "toc_window_display": false
  }
 },
 "nbformat": 4,
 "nbformat_minor": 4
}
