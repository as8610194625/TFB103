{
 "cells": [
  {
   "cell_type": "markdown",
   "metadata": {},
   "source": [
    "# 印刷文字辨識服務操作"
   ]
  },
  {
   "cell_type": "code",
   "execution_count": 2,
   "metadata": {},
   "outputs": [
    {
     "name": "stdout",
     "output_type": "stream",
     "text": [
      "===== Batch Read File - remote =====\n",
      "32207-$ 89 III 658050\n",
      "[638.0, 49.0, 905.0, 48.0, 905.0, 70.0, 638.0, 72.0]\n",
      "$ 160 1-1~1-8 29 -643 ()\n",
      "[647.0, 83.0, 901.0, 83.0, 901.0, 102.0, 647.0, 102.0]\n",
      ":REM . (A)@ (B) (CODE (D)204 .\n",
      "[611.0, 275.0, 931.0, 274.0, 931.0, 290.0, 611.0, 291.0]\n",
      "* (C ) 4 MAJOR AMI$500,000 . ARMISIO . LABROKEN . KIN\n",
      "[532.0, 360.0, 1058.0, 360.0, 1058.0, 378.0, 532.0, 378.0]\n",
      "JU$412.500 . JU KINDRiTHE (A)$10 (B)$15 (C)$25 (D)$30 -\n",
      "[610.0, 400.0, 1043.0, 401.0, 1043.0, 418.0, 610.0, 417.0]\n",
      "(D)CAME . 4. ($412,500-50,000X - X$6) + 12,500+ do $4$10=$25\n",
      "[606.0, 445.0, 1044.0, 445.0, 1044.0, 460.0, 606.0, 461.0]\n",
      "CERNERMAN ORWAS .\n",
      "[607.0, 488.0, 819.0, 488.0, 819.0, 504.0, 607.0, 504.0]\n",
      "(D ) 11.JUR OR$2. 40 . TAMIAMI $24 . NORTE Mi$36 . BUFF\n",
      "[548.0, 725.0, 1058.0, 725.0, 1058.0, 741.0, 548.0, 742.0]\n",
      "ZA MILES? (A)10% (B)1.5 (C)15 (D)10 .\n",
      "[607.0, 745.0, 921.0, 746.0, 921.0, 762.0, 607.0, 761.0]\n",
      "(D ) 12. *ABOUT MOR . Kiwi$10 . 1/1 MinEy) 20,000 8 . 5/1 BIMART\n",
      "[548.0, 769.0, 1059.0, 769.0, 1059.0, 786.0, 548.0, 786.0]\n",
      "9.000 4 . 8/1 BUMPER: 2,400 2 . 10/1 WA) WI1 2 K . DORMI\n",
      "[608.0, 787.0, 1059.0, 788.0, 1059.0, 806.0, 608.0, 805.0]\n",
      "(DOME PERU (A)40,000 X (B)12,000 ' (C)52,000 * (D)50,000 -\n",
      "[607.0, 808.0, 1058.0, 809.0, 1058.0, 827.0, 607.0, 826.0]\n",
      "G 16-1\n",
      "[1000.0, 843.0, 1060.0, 841.0, 1060.0, 858.0, 1001.0, 860.0]\n",
      "\n"
     ]
    }
   ],
   "source": [
    "from azure.cognitiveservices.vision.computervision import ComputerVisionClient\n",
    "from azure.cognitiveservices.vision.computervision.models import TextOperationStatusCodes\n",
    "from msrest.authentication import CognitiveServicesCredentials\n",
    "import time\n",
    "\n",
    "# Set API key.\n",
    "subscription_key = 'c4d5a923e8454f53a3636a272c7fdc91'\n",
    "\n",
    "# Set endpoint.\n",
    "endpoint = 'https://tfb103vis.cognitiveservices.azure.com/'\n",
    "# Call API\n",
    "computervision_client = ComputerVisionClient(endpoint, CognitiveServicesCredentials(subscription_key))\n",
    "\n",
    "'''\n",
    "Batch Read File, recognize printed text - remote\n",
    "This example will extract printed text in an image, then print results, line by line.\n",
    "This API call can also recognize handwriting (not shown).\n",
    "'''\n",
    "print(\"===== Batch Read File - remote =====\")\n",
    "# Get an image with printed text\n",
    "remote_image_printed_text_url = \"http://4.bp.blogspot.com/-14jHL5_HYG0/Vht8c5Fw7EI/AAAAAAAABIU/DH2IEv6MNys/s1600/16-1.png\"\n",
    "\n",
    "# Call API with URL and raw response (allows you to get the operation location)\n",
    "recognize_printed_results = computervision_client.batch_read_file(remote_image_printed_text_url,  raw=True)\n",
    "\n",
    "# Get the operation location (URL with an ID at the end) from the response\n",
    "operation_location_remote = recognize_printed_results.headers[\"Operation-Location\"]\n",
    "# Grab the ID from the URL\n",
    "operation_id = operation_location_remote.split(\"/\")[-1]\n",
    "\n",
    "# Call the \"GET\" API and wait for it to retrieve the results \n",
    "while True:\n",
    "    get_printed_text_results = computervision_client.get_read_operation_result(operation_id)\n",
    "    if get_printed_text_results.status not in ['NotStarted', 'Running']:\n",
    "        break\n",
    "    time.sleep(1)\n",
    "\n",
    "# Print the detected text, line by line\n",
    "if get_printed_text_results.status == TextOperationStatusCodes.succeeded:\n",
    "    for text_result in get_printed_text_results.recognition_results:\n",
    "        for line in text_result.lines:\n",
    "            print(line.text)\n",
    "            print(line.bounding_box)\n",
    "print()"
   ]
  },
  {
   "cell_type": "markdown",
   "metadata": {},
   "source": [
    "## 本地"
   ]
  },
  {
   "cell_type": "code",
   "execution_count": 1,
   "metadata": {},
   "outputs": [
    {
     "name": "stdout",
     "output_type": "stream",
     "text": [
      "===== Batch Read File - remote =====\n"
     ]
    },
    {
     "ename": "ComputerVisionErrorException",
     "evalue": "Operation returned an invalid status code 'Bad Request'",
     "output_type": "error",
     "traceback": [
      "\u001b[1;31m---------------------------------------------------------------------------\u001b[0m",
      "\u001b[1;31mComputerVisionErrorException\u001b[0m              Traceback (most recent call last)",
      "\u001b[1;32m<ipython-input-1-fbc2e674e1db>\u001b[0m in \u001b[0;36m<module>\u001b[1;34m\u001b[0m\n\u001b[0;32m     26\u001b[0m \u001b[1;33m\u001b[0m\u001b[0m\n\u001b[0;32m     27\u001b[0m \u001b[1;31m# Call API with URL and raw response (allows you to get the operation location)\u001b[0m\u001b[1;33m\u001b[0m\u001b[1;33m\u001b[0m\u001b[1;33m\u001b[0m\u001b[0m\n\u001b[1;32m---> 28\u001b[1;33m \u001b[0mrecognize_printed_results\u001b[0m \u001b[1;33m=\u001b[0m \u001b[0mcomputervision_client\u001b[0m\u001b[1;33m.\u001b[0m\u001b[0mbatch_read_file\u001b[0m\u001b[1;33m(\u001b[0m\u001b[0mremote_image_printed_text\u001b[0m\u001b[1;33m,\u001b[0m  \u001b[0mraw\u001b[0m\u001b[1;33m=\u001b[0m\u001b[1;32mTrue\u001b[0m\u001b[1;33m)\u001b[0m\u001b[1;33m\u001b[0m\u001b[1;33m\u001b[0m\u001b[0m\n\u001b[0m\u001b[0;32m     29\u001b[0m \u001b[1;33m\u001b[0m\u001b[0m\n\u001b[0;32m     30\u001b[0m \u001b[1;31m# Get the operation location (URL with an ID at the end) from the response\u001b[0m\u001b[1;33m\u001b[0m\u001b[1;33m\u001b[0m\u001b[1;33m\u001b[0m\u001b[0m\n",
      "\u001b[1;32m~\\anaconda3\\envs\\python_azure\\lib\\site-packages\\azure\\cognitiveservices\\vision\\computervision\\operations\\_computer_vision_client_operations.py\u001b[0m in \u001b[0;36mbatch_read_file\u001b[1;34m(self, url, custom_headers, raw, **operation_config)\u001b[0m\n\u001b[0;32m    879\u001b[0m \u001b[1;33m\u001b[0m\u001b[0m\n\u001b[0;32m    880\u001b[0m         \u001b[1;32mif\u001b[0m \u001b[0mresponse\u001b[0m\u001b[1;33m.\u001b[0m\u001b[0mstatus_code\u001b[0m \u001b[1;32mnot\u001b[0m \u001b[1;32min\u001b[0m \u001b[1;33m[\u001b[0m\u001b[1;36m202\u001b[0m\u001b[1;33m]\u001b[0m\u001b[1;33m:\u001b[0m\u001b[1;33m\u001b[0m\u001b[1;33m\u001b[0m\u001b[0m\n\u001b[1;32m--> 881\u001b[1;33m             \u001b[1;32mraise\u001b[0m \u001b[0mmodels\u001b[0m\u001b[1;33m.\u001b[0m\u001b[0mComputerVisionErrorException\u001b[0m\u001b[1;33m(\u001b[0m\u001b[0mself\u001b[0m\u001b[1;33m.\u001b[0m\u001b[0m_deserialize\u001b[0m\u001b[1;33m,\u001b[0m \u001b[0mresponse\u001b[0m\u001b[1;33m)\u001b[0m\u001b[1;33m\u001b[0m\u001b[1;33m\u001b[0m\u001b[0m\n\u001b[0m\u001b[0;32m    882\u001b[0m \u001b[1;33m\u001b[0m\u001b[0m\n\u001b[0;32m    883\u001b[0m         \u001b[1;32mif\u001b[0m \u001b[0mraw\u001b[0m\u001b[1;33m:\u001b[0m\u001b[1;33m\u001b[0m\u001b[1;33m\u001b[0m\u001b[0m\n",
      "\u001b[1;31mComputerVisionErrorException\u001b[0m: Operation returned an invalid status code 'Bad Request'"
     ]
    }
   ],
   "source": [
    "from azure.cognitiveservices.vision.computervision import ComputerVisionClient\n",
    "from azure.cognitiveservices.vision.computervision.models import TextOperationStatusCodes\n",
    "from msrest.authentication import CognitiveServicesCredentials\n",
    "import time\n",
    "\n",
    "# Set API key.\n",
    "subscription_key = 'c4d5a923e8454f53a3636a272c7fdc91'\n",
    "\n",
    "# Set endpoint.\n",
    "endpoint = 'https://tfb103vis.cognitiveservices.azure.com/'\n",
    "# Call API\n",
    "computervision_client = ComputerVisionClient(endpoint, CognitiveServicesCredentials(subscription_key))\n",
    "\n",
    "'''\n",
    "Batch Read File, recognize printed text - remote\n",
    "This example will extract printed text in an image, then print results, line by line.\n",
    "This API call can also recognize handwriting (not shown).\n",
    "'''\n",
    "print(\"===== Batch Read File - remote =====\")\n",
    "# Get an image with printed text\n",
    "import os\n",
    "local_image_path = os.getcwd() + \"./handwriting.jpg\"\n",
    "\n",
    "# 讀取圖片\n",
    "remote_image_printed_text = open(local_image_path, \"rb\")\n",
    "\n",
    "# Call API with URL and raw response (allows you to get the operation location)\n",
    "recognize_printed_results = computervision_client.batch_read_file(remote_image_printed_text_,  raw=True)\n",
    "\n",
    "# Get the operation location (URL with an ID at the end) from the response\n",
    "operation_location_remote = recognize_printed_results.headers[\"Operation-Location\"]\n",
    "# Grab the ID from the URL\n",
    "operation_id = operation_location_remote.split(\"/\")[-1]\n",
    "\n",
    "# Call the \"GET\" API and wait for it to retrieve the results \n",
    "while True:\n",
    "    get_printed_text_results = computervision_client.get_read_operation_result(operation_id)\n",
    "    if get_printed_text_results.status not in ['NotStarted', 'Running']:\n",
    "        break\n",
    "    time.sleep(1)\n",
    "\n",
    "# Print the detected text, line by line\n",
    "if get_printed_text_results.status == TextOperationStatusCodes.succeeded:\n",
    "    for text_result in get_printed_text_results.recognition_results:\n",
    "        for line in text_result.lines:\n",
    "            print(line.text)\n",
    "            print(line.bounding_box)\n",
    "print()"
   ]
  },
  {
   "cell_type": "markdown",
   "metadata": {},
   "source": [
    "# 手寫文字辨識服務操作"
   ]
  },
  {
   "cell_type": "code",
   "execution_count": 3,
   "metadata": {},
   "outputs": [
    {
     "name": "stdout",
     "output_type": "stream",
     "text": [
      "===== Batch Read File - remote =====\n",
      "32207-$ 89 III 658050\n",
      "[638.0, 49.0, 905.0, 48.0, 905.0, 70.0, 638.0, 72.0]\n",
      "$ 160 1-1~1-8 29 -643 ()\n",
      "[647.0, 83.0, 901.0, 83.0, 901.0, 102.0, 647.0, 102.0]\n",
      ":REM . (A)@ (B) (CODE (D)204 .\n",
      "[611.0, 275.0, 931.0, 274.0, 931.0, 290.0, 611.0, 291.0]\n",
      "* (C ) 4 MAJOR AMI$500,000 . ARMISIO . LABROKEN . KIN\n",
      "[532.0, 360.0, 1058.0, 360.0, 1058.0, 378.0, 532.0, 378.0]\n",
      "JU$412.500 . JU KINDRiTHE (A)$10 (B)$15 (C)$25 (D)$30 -\n",
      "[610.0, 400.0, 1043.0, 401.0, 1043.0, 418.0, 610.0, 417.0]\n",
      "(D)CAME . 4. ($412,500-50,000X - X$6) + 12,500+ do $4$10=$25\n",
      "[606.0, 445.0, 1044.0, 445.0, 1044.0, 460.0, 606.0, 461.0]\n",
      "CERNERMAN ORWAS .\n",
      "[607.0, 488.0, 819.0, 488.0, 819.0, 504.0, 607.0, 504.0]\n",
      "(D ) 11.JUR OR$2. 40 . TAMIAMI $24 . NORTE Mi$36 . BUFF\n",
      "[548.0, 725.0, 1058.0, 725.0, 1058.0, 741.0, 548.0, 742.0]\n",
      "ZA MILES? (A)10% (B)1.5 (C)15 (D)10 .\n",
      "[607.0, 745.0, 921.0, 746.0, 921.0, 762.0, 607.0, 761.0]\n",
      "(D ) 12. *ABOUT MOR . Kiwi$10 . 1/1 MinEy) 20,000 8 . 5/1 BIMART\n",
      "[548.0, 769.0, 1059.0, 769.0, 1059.0, 786.0, 548.0, 786.0]\n",
      "9.000 4 . 8/1 BUMPER: 2,400 2 . 10/1 WA) WI1 2 K . DORMI\n",
      "[608.0, 787.0, 1059.0, 788.0, 1059.0, 806.0, 608.0, 805.0]\n",
      "(DOME PERU (A)40,000 X (B)12,000 ' (C)52,000 * (D)50,000 -\n",
      "[607.0, 808.0, 1058.0, 809.0, 1058.0, 827.0, 607.0, 826.0]\n",
      "G 16-1\n",
      "[1000.0, 843.0, 1060.0, 841.0, 1060.0, 858.0, 1001.0, 860.0]\n",
      "\n"
     ]
    }
   ],
   "source": [
    "from azure.cognitiveservices.vision.computervision import ComputerVisionClient\n",
    "from azure.cognitiveservices.vision.computervision.models import TextOperationStatusCodes\n",
    "from msrest.authentication import CognitiveServicesCredentials\n",
    "import time\n",
    "\n",
    "\n",
    "# Set API key.\n",
    "subscription_key = 'c4d5a923e8454f53a3636a272c7fdc91'\n",
    "\n",
    "# Set endpoint.\n",
    "endpoint = 'https://tfb103vis.cognitiveservices.azure.com/'\n",
    "# Call API\n",
    "computervision_client = ComputerVisionClient(endpoint, CognitiveServicesCredentials(subscription_key))\n",
    "\n",
    "'''\n",
    "Batch Read File, recognize printed text - remote\n",
    "This example will extract printed text in an image, then print results, line by line.\n",
    "This API call can also recognize handwriting (not shown).\n",
    "'''\n",
    "print(\"===== Batch Read File - remote =====\")\n",
    "# Get an image with printed handwritten\n",
    "remote_image_printed_text_url = \"http://4.bp.blogspot.com/-14jHL5_HYG0/Vht8c5Fw7EI/AAAAAAAABIU/DH2IEv6MNys/s1600/16-1.png\"\n",
    "\n",
    "# Call API with URL and raw response (allows you to get the operation location)\n",
    "recognize_printed_results = computervision_client.batch_read_file(remote_image_printed_text_url,  raw=True)\n",
    "\n",
    "# Get the operation location (URL with an ID at the end) from the response\n",
    "operation_location_remote = recognize_printed_results.headers[\"Operation-Location\"]\n",
    "# Grab the ID from the URL\n",
    "operation_id = operation_location_remote.split(\"/\")[-1]\n",
    "\n",
    "# Call the \"GET\" API and wait for it to retrieve the results \n",
    "while True:\n",
    "    get_printed_text_results = computervision_client.get_read_operation_result(operation_id)\n",
    "    if get_printed_text_results.status not in ['NotStarted', 'Running']:\n",
    "        break\n",
    "    time.sleep(1)\n",
    "\n",
    "# Print the detected text, line by line\n",
    "if get_printed_text_results.status == TextOperationStatusCodes.succeeded:\n",
    "    for text_result in get_printed_text_results.recognition_results:\n",
    "        for line in text_result.lines:\n",
    "            print(line.text)\n",
    "            print(line.bounding_box)\n",
    "print()"
   ]
  },
  {
   "cell_type": "markdown",
   "metadata": {},
   "source": [
    "## (本地端)"
   ]
  },
  {
   "cell_type": "code",
   "execution_count": 6,
   "metadata": {
    "scrolled": true
   },
   "outputs": [
    {
     "name": "stdout",
     "output_type": "stream",
     "text": [
      "===== Batch Read File - remote =====\n",
      "O\n",
      "[840.0, 460.0, 873.0, 459.0, 872.0, 484.0, 839.0, 485.0]\n",
      "04141 87520 00029 08316 13416 94642 20119\n",
      "[122.0, 641.0, 981.0, 672.0, 978.0, 743.0, 120.0, 712.0]\n",
      "HI : 110/08/27 Brick\n",
      "[367.0, 745.0, 886.0, 772.0, 884.0, 821.0, 365.0, 793.0]\n",
      "HASI : #110000078 # 1 #JJ\n",
      "[299.0, 796.0, 781.0, 812.0, 780.0, 856.0, 297.0, 840.0]\n",
      "1 08 10 11 31 32 49\n",
      "[33.0, 853.0, 813.0, 875.0, 812.0, 919.0, 32.0, 897.0]\n",
      "2507\n",
      "[30.0, 911.0, 238.0, 911.0, 238.0, 953.0, 30.0, 953.0]\n",
      "17 20 )30 327 46\n",
      "[238.0, 906.0, 815.0, 922.0, 814.0, 969.0, 237.0, 952.0]\n",
      "WE SETH NT$ 100\n",
      "[254.0, 982.0, 791.0, 986.0, 791.0, 1030.0, 254.0, 1026.0]\n",
      ": 110/08/26 22:54:52\n",
      "[252.0, 1025.0, 812.0, 1040.0, 810.0, 1084.0, 250.0, 1070.0]\n",
      "1RS : 24044074 KiE: 240440741\n",
      "[207.0, 1073.0, 868.0, 1092.0, 867.0, 1135.0, 205.0, 1116.0]\n",
      "000727079* TR: 0001282289 12944005700145246336\n",
      "[48.0, 1119.0, 991.0, 1143.0, 990.0, 1192.0, 47.0, 1168.0]\n",
      "\n"
     ]
    }
   ],
   "source": [
    "from azure.cognitiveservices.vision.computervision import ComputerVisionClient\n",
    "from azure.cognitiveservices.vision.computervision.models import TextOperationStatusCodes\n",
    "from msrest.authentication import CognitiveServicesCredentials\n",
    "import time\n",
    "\n",
    "\n",
    "# Set API key.\n",
    "subscription_key = 'c4d5a923e8454f53a3636a272c7fdc91'\n",
    "\n",
    "# Set endpoint.\n",
    "endpoint = 'https://tfb103vis.cognitiveservices.azure.com/'\n",
    "# Call API\n",
    "computervision_client = ComputerVisionClient(endpoint, CognitiveServicesCredentials(subscription_key))\n",
    "\n",
    "'''\n",
    "Batch Read File, recognize printed text - remote\n",
    "This example will extract printed text in an image, then print results, line by line.\n",
    "This API call can also recognize handwriting (not shown).\n",
    "'''\n",
    "print(\"===== Batch Read File - remote =====\")\n",
    "# Get an image with printed handwritten\n",
    "import os\n",
    "local_image_path = \"C:/Users/Tibame/Desktop/xxxx.jpg\"\n",
    "\n",
    "# 讀取圖片\n",
    "remote_image_printed_text = open(local_image_path, \"rb\")\n",
    "\n",
    "# Call API with URL and raw response (allows you to get the operation location)\n",
    "recognize_printed_results = computervision_client.batch_read_file_in_stream(remote_image_printed_text,  raw=True)\n",
    "\n",
    "# Get the operation location (URL with an ID at the end) from the response\n",
    "operation_location_remote = recognize_printed_results.headers[\"Operation-Location\"]\n",
    "# Grab the ID from the URL\n",
    "operation_id = operation_location_remote.split(\"/\")[-1]\n",
    "\n",
    "# Call the \"GET\" API and wait for it to retrieve the results \n",
    "while True:\n",
    "    get_printed_text_results = computervision_client.get_read_operation_result(operation_id)\n",
    "    if get_printed_text_results.status not in ['NotStarted', 'Running']:\n",
    "        break\n",
    "    time.sleep(1)\n",
    "\n",
    "# Print the detected text, line by line\n",
    "if get_printed_text_results.status == TextOperationStatusCodes.succeeded:\n",
    "    for text_result in get_printed_text_results.recognition_results:\n",
    "        for line in text_result.lines:\n",
    "            print(line.text)\n",
    "            print(line.bounding_box)\n",
    "print()"
   ]
  },
  {
   "cell_type": "markdown",
   "metadata": {},
   "source": [
    "# 成人內容偵測服務操作"
   ]
  },
  {
   "cell_type": "code",
   "execution_count": 17,
   "metadata": {},
   "outputs": [
    {
     "name": "stdout",
     "output_type": "stream",
     "text": [
      "===== Detect Adult or Racy Content - remote =====\n",
      "Analyzing remote image for adult or racy content ... \n",
      "Is adult content: True with confidence 95.26\n",
      "Has racy content: True with confidence 98.35\n"
     ]
    }
   ],
   "source": [
    "from azure.cognitiveservices.vision.computervision import ComputerVisionClient\n",
    "from msrest.authentication import CognitiveServicesCredentials\n",
    "\n",
    "# Set API key.\n",
    "subscription_key = '35e3f0794e3a44f3b981d7a864f00cfd'\n",
    "\n",
    "# Set endpoint.\n",
    "endpoint = 'https://tfb103.cognitiveservices.azure.com/'\n",
    "# Call API\n",
    "computervision_client = ComputerVisionClient(endpoint, CognitiveServicesCredentials(subscription_key))\n",
    "\n",
    "remote_image_url = \"https://upload.wikimedia.org/wikipedia/commons/thumb/7/73/Lot_en_zijn_dochters_Rijksmuseum_SK-A-4866.jpeg/250px-Lot_en_zijn_dochters_Rijksmuseum_SK-A-4866.jpeg\"\n",
    "\n",
    "'''\n",
    "Detect Adult or Racy Content - remote\n",
    "This example detects adult or racy content in a remote image, then prints the adult/racy score.\n",
    "The score is ranged 0.0 - 1.0 with smaller numbers indicating negative results.\n",
    "'''\n",
    "print(\"===== Detect Adult or Racy Content - remote =====\")\n",
    "# Select the visual feature(s) you want\n",
    "remote_image_features = [\"adult\"]\n",
    "# Call API with URL and features\n",
    "detect_adult_results_remote = computervision_client.analyze_image(remote_image_url, remote_image_features)\n",
    "\n",
    "# Print results with adult/racy score\n",
    "print(\"Analyzing remote image for adult or racy content ... \")\n",
    "print(\"Is adult content: {} with confidence {:.2f}\".format(detect_adult_results_remote.adult.is_adult_content, detect_adult_results_remote.adult.adult_score * 100))\n",
    "print(\"Has racy content: {} with confidence {:.2f}\".format(detect_adult_results_remote.adult.is_racy_content, detect_adult_results_remote.adult.racy_score * 100))"
   ]
  },
  {
   "cell_type": "code",
   "execution_count": null,
   "metadata": {},
   "outputs": [],
   "source": []
  }
 ],
 "metadata": {
  "kernelspec": {
   "display_name": "Python 3",
   "language": "python",
   "name": "python3"
  },
  "language_info": {
   "codemirror_mode": {
    "name": "ipython",
    "version": 3
   },
   "file_extension": ".py",
   "mimetype": "text/x-python",
   "name": "python",
   "nbconvert_exporter": "python",
   "pygments_lexer": "ipython3",
   "version": "3.8.11"
  },
  "toc": {
   "base_numbering": 1,
   "nav_menu": {},
   "number_sections": true,
   "sideBar": true,
   "skip_h1_title": false,
   "title_cell": "Table of Contents",
   "title_sidebar": "Contents",
   "toc_cell": false,
   "toc_position": {},
   "toc_section_display": true,
   "toc_window_display": false
  }
 },
 "nbformat": 4,
 "nbformat_minor": 4
}
