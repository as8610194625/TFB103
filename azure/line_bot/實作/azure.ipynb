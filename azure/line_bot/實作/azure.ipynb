{
 "cells": [
  {
   "cell_type": "code",
   "execution_count": 5,
   "source": [
    "def az(documents):\r\n",
    "    from azure.core.credentials import AzureKeyCredential\r\n",
    "    from azure.ai.textanalytics import TextAnalyticsClient\r\n",
    "\r\n",
    "    key = \"94a15ae6fe8946efa56a851eefb7a1c8\"\r\n",
    "    endpoint = \"https://tfb103azure.cognitiveservices.azure.com/\"\r\n",
    "\r\n",
    "    text_analytics_client = TextAnalyticsClient(endpoint=endpoint, credential=AzureKeyCredential(key))\r\n",
    "    \r\n",
    "    result = text_analytics_client.analyze_sentiment(documents)\r\n",
    "    for r in result:\r\n",
    "        rr = r.sentiment\r\n",
    "    return rr"
   ],
   "outputs": [],
   "metadata": {}
  },
  {
   "cell_type": "code",
   "execution_count": null,
   "source": [],
   "outputs": [],
   "metadata": {}
  }
 ],
 "metadata": {
  "orig_nbformat": 4,
  "language_info": {
   "name": "python",
   "version": "3.8.11",
   "mimetype": "text/x-python",
   "codemirror_mode": {
    "name": "ipython",
    "version": 3
   },
   "pygments_lexer": "ipython3",
   "nbconvert_exporter": "python",
   "file_extension": ".py"
  },
  "kernelspec": {
   "name": "python3",
   "display_name": "Python 3.8.11 64-bit ('python_azure': conda)"
  },
  "interpreter": {
   "hash": "c37cc4f17cd2b6b52f915e8be5a7fc0e36b6c1d250ba3cca00d3de4499f1b546"
  }
 },
 "nbformat": 4,
 "nbformat_minor": 2
}