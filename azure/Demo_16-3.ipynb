{
 "cells": [
  {
   "cell_type": "markdown",
   "metadata": {},
   "source": [
    "# QnA maker服務操作"
   ]
  },
  {
   "cell_type": "code",
   "execution_count": 7,
   "metadata": {},
   "outputs": [
    {
     "name": "stdout",
     "output_type": "stream",
     "text": [
      "{\n",
      "    \"answers\": [\n",
      "        {\n",
      "            \"questions\": [\n",
      "                \"how old are you?\"\n",
      "            ],\n",
      "            \"answer\": \"i'm forever 18 years old.\",\n",
      "            \"score\": 100.0,\n",
      "            \"id\": 2,\n",
      "            \"source\": \"Editorial\",\n",
      "            \"isDocumentText\": false,\n",
      "            \"metadata\": [],\n",
      "            \"context\": {\n",
      "                \"isContextOnly\": false,\n",
      "                \"prompts\": []\n",
      "            }\n",
      "        }\n",
      "    ],\n",
      "    \"activeLearningEnabled\": false\n",
      "}\n"
     ]
    }
   ],
   "source": [
    "import http.client, urllib.parse, json, time, sys\n",
    "\n",
    "# Represents the various elements used to create HTTP request URIs\n",
    "# for QnA Maker operations.\n",
    "# From Publish Page\n",
    "# Example: YOUR-RESOURCE-NAME.azurewebsites.net\n",
    "# CAUTION: This is not the exact value of HOST field\n",
    "# HOST trimmed to work with http library\n",
    "# host = \"https://qamakedemo.cognitiveservices.azure.com/qnamaker/v4.0\";\n",
    "\n",
    "host = 'tfb103qna.azurewebsites.net' #\"qamakeDEMO.azurewebsites.net\";\n",
    "\n",
    "# Authorization endpoint key\n",
    "# From Publish Page\n",
    "endpoint_key = 'b552acca-c911-4fe7-b694-7647469d0320' #\"e71e8e5a-e6f1-461b-9602-af667fa12ecb\";\n",
    "\n",
    "# Management APIs postpend the version to the route\n",
    "# From Publish Page\n",
    "# Example: /knowledgebases/ZZZ15f8c-d01b-4698-a2de-85b0dbf3358c/generateAnswer\n",
    "# CAUTION: This is not the exact value after POST\n",
    "# Part of HOST is prepended to route to work with http library\n",
    "route = '/qnamaker/knowledgebases/4851aab2-36d7-4069-aa7b-8cbc8049a599/generateAnswer'\n",
    "\n",
    "# JSON format for passing question to service\n",
    "question = \"{'question': 'how old are you?','top': 3}\";\n",
    "\n",
    "headers = {\n",
    "    'Authorization': 'EndpointKey ' + endpoint_key,\n",
    "    'Content-Type': 'application/json'\n",
    "  }\n",
    "\n",
    "try:\n",
    "    conn = http.client.HTTPSConnection(host,port=443)\n",
    "    conn.request (\"POST\", route,  question, headers)\n",
    "    response = conn.getresponse ()\n",
    "    answer = response.read ()\n",
    "    print(json.dumps(json.loads(answer), indent=4))\n",
    "\n",
    "except :\n",
    "    print (\"Unexpected error:\", sys.exc_info()[0])\n",
    "    print (\"Unexpected error:\", sys.exc_info()[1])"
   ]
  },
  {
   "cell_type": "markdown",
   "metadata": {},
   "source": [
    "# 內容仲裁服務操作"
   ]
  },
  {
   "cell_type": "code",
   "execution_count": 12,
   "metadata": {},
   "outputs": [
    {
     "name": "stdout",
     "output_type": "stream",
     "text": [
      "{'original_text': 'Is this a grabage email abcdef@abcd.com, phone: 4255550111, IP: 255.255.255.255, 1234 Main Boulevard, Panapolis WA 96555.\\nCrap is the profanity here. Is this information PII? phone 2065550111', 'normalized_text': '   grabage email abcdef@abcd.com, phone: 4255550111, IP: 255.255.255.255, 1234 Main Boulevard, Panapolis WA 96555.\\nCrap   profanity .   information PII? phone 2065550111', 'auto_corrected_text': 'Is this a garbage email abcdef@abcd.com, phone: 4255550111, IP: 255.255.255.255, 1234 Main Boulevard, Pentapolis WA 96555.\\nCrap is the profanity here. Is this information PII? phone 2065550111', 'status': {'code': 3000, 'description': 'OK'}, 'pii': {'email': [{'detected': 'abcdef@abcd.com', 'sub_type': 'Regular', 'text': 'abcdef@abcd.com', 'index': 24}], 'ssn': [], 'ipa': [{'sub_type': 'IPV4', 'text': '255.255.255.255', 'index': 64}], 'phone': [{'country_code': 'US', 'text': '4255550111', 'index': 48}, {'country_code': 'US', 'text': '2065550111', 'index': 181}], 'address': [{'text': '1234 Main Boulevard, Panapolis WA 96555', 'index': 81}]}, 'language': 'eng', 'terms': [{'index': 115, 'original_index': 122, 'list_id': 0, 'term': 'crap'}], 'tracking_id': 'd7aef02c-8738-46d6-a712-613149fd5f45'}\n"
     ]
    }
   ],
   "source": [
    "import os.path\n",
    "from pprint import pprint\n",
    "import time\n",
    "from io import BytesIO\n",
    "from random import random\n",
    "import uuid\n",
    "\n",
    "from azure.cognitiveservices.vision.contentmoderator import ContentModeratorClient\n",
    "import azure.cognitiveservices.vision.contentmoderator.models\n",
    "from msrest.authentication import CognitiveServicesCredentials\n",
    "\n",
    "CONTENT_MODERATOR_ENDPOINT = \"https://tfb103content.cognitiveservices.azure.com/\"\n",
    "subscription_key = \"3684b9ffede04c158418d0863521b96f\"\n",
    "\n",
    "client = ContentModeratorClient(\n",
    "    endpoint=CONTENT_MODERATOR_ENDPOINT, \n",
    "    credentials=CognitiveServicesCredentials(subscription_key)\n",
    ")\n",
    "\n",
    "TEXT_FOLDER = os.getcwd()\n",
    "\n",
    "# Screen the input text: check for profanity,\n",
    "# do autocorrect text, and check for personally identifying\n",
    "# information (PII)\n",
    "with open(os.path.join(TEXT_FOLDER, 'content_moderator_text_moderation.txt'), \"rb\") as text_fd:\n",
    "    screen = client.text_moderation.screen_text(\n",
    "        text_content_type=\"text/plain\",\n",
    "        text_content=text_fd,\n",
    "        language=\"eng\",\n",
    "        autocorrect=True,\n",
    "        pii=True\n",
    "    )\n",
    "#     assert isinstance(screen, Screen)\n",
    "    print(screen.as_dict())"
   ]
  },
  {
   "cell_type": "code",
   "execution_count": null,
   "metadata": {},
   "outputs": [],
   "source": []
  }
 ],
 "metadata": {
  "kernelspec": {
   "display_name": "Python 3",
   "language": "python",
   "name": "python3"
  },
  "language_info": {
   "codemirror_mode": {
    "name": "ipython",
    "version": 3
   },
   "file_extension": ".py",
   "mimetype": "text/x-python",
   "name": "python",
   "nbconvert_exporter": "python",
   "pygments_lexer": "ipython3",
   "version": "3.8.11"
  },
  "toc": {
   "base_numbering": 1,
   "nav_menu": {},
   "number_sections": true,
   "sideBar": true,
   "skip_h1_title": false,
   "title_cell": "Table of Contents",
   "title_sidebar": "Contents",
   "toc_cell": false,
   "toc_position": {},
   "toc_section_display": true,
   "toc_window_display": false
  }
 },
 "nbformat": 4,
 "nbformat_minor": 4
}
