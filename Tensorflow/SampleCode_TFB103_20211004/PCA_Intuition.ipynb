{
 "cells": [
  {
   "cell_type": "code",
   "execution_count": 1,
   "metadata": {
    "executionInfo": {
     "elapsed": 10,
     "status": "ok",
     "timestamp": 1634657196498,
     "user": {
      "displayName": "Paul Chen",
      "photoUrl": "https://lh3.googleusercontent.com/a/default-user=s64",
      "userId": "15113937160468943492"
     },
     "user_tz": -480
    },
    "id": "_0LTQj73KIAM"
   },
   "outputs": [],
   "source": [
    "#Importing requisite libraries\n",
    "import numpy as np\n",
    "%matplotlib inline\n",
    "import matplotlib.pyplot as plt"
   ]
  },
  {
   "cell_type": "code",
   "execution_count": 2,
   "metadata": {
    "colab": {
     "base_uri": "https://localhost:8080/",
     "height": 281
    },
    "executionInfo": {
     "elapsed": 412,
     "status": "ok",
     "timestamp": 1634657225906,
     "user": {
      "displayName": "Paul Chen",
      "photoUrl": "https://lh3.googleusercontent.com/a/default-user=s64",
      "userId": "15113937160468943492"
     },
     "user_tz": -480
    },
    "id": "j1Qz_YzLKWop",
    "outputId": "961afae8-b837-4bbe-e459-057dd255575b"
   },
   "outputs": [
    {
     "data": {
      "text/plain": [
       "<matplotlib.collections.PathCollection at 0x7f674d597070>"
      ]
     },
     "execution_count": 2,
     "metadata": {},
     "output_type": "execute_result"
    },
    {
     "data": {
      "image/png": "[encoded data removed]",
      "text/plain": [
       "<Figure size 432x288 with 1 Axes>"
      ]
     },
     "metadata": {
      "needs_background": "light"
     },
     "output_type": "display_data"
    }
   ],
   "source": [
    "#Creating a cleaned dataset\n",
    "np.random.seed(42)\n",
    "X1_clean = np.array(range(20))\n",
    "X2_clean = np.array(range(20))\n",
    "\n",
    "#Plotting the points\n",
    "plt.scatter(X1_clean, X2_clean)"
   ]
  },
  {
   "cell_type": "code",
   "execution_count": 3,
   "metadata": {
    "colab": {
     "base_uri": "https://localhost:8080/",
     "height": 285
    },
    "executionInfo": {
     "elapsed": 382,
     "status": "ok",
     "timestamp": 1634657251817,
     "user": {
      "displayName": "Paul Chen",
      "photoUrl": "https://lh3.googleusercontent.com/a/default-user=s64",
      "userId": "15113937160468943492"
     },
     "user_tz": -480
    },
    "id": "WCq50x2pKiH7",
    "outputId": "68f7947c-f241-4c90-a2f4-55b4101825f4"
   },
   "outputs": [
    {
     "data": {
      "text/plain": [
       "<matplotlib.collections.PathCollection at 0x7f674d4b6640>"
      ]
     },
     "execution_count": 3,
     "metadata": {},
     "output_type": "execute_result"
    },
    {
     "data": {
      "image/png": "[encoded data removed]",
      "text/plain": [
       "<Figure size 432x288 with 1 Axes>"
      ]
     },
     "metadata": {
      "needs_background": "light"
     },
     "output_type": "display_data"
    }
   ],
   "source": [
    "# Adding noise\n",
    "\n",
    "X1_noise = np.random.randn(1,20)[0]\n",
    "X2_noise = np.random.randn(1,20)[0]\n",
    "\n",
    "X1 = X1_clean + X1_noise\n",
    "X2 = X2_clean + X2_noise\n",
    "\n",
    "data  = np.column_stack((X1,X2))\n",
    "\n",
    "#Plotting the data\n",
    "plt.scatter(X1,X2)"
   ]
  },
  {
   "cell_type": "code",
   "execution_count": 4,
   "metadata": {
    "colab": {
     "base_uri": "https://localhost:8080/"
    },
    "executionInfo": {
     "elapsed": 1329,
     "status": "ok",
     "timestamp": 1634657279963,
     "user": {
      "displayName": "Paul Chen",
      "photoUrl": "https://lh3.googleusercontent.com/a/default-user=s64",
      "userId": "15113937160468943492"
     },
     "user_tz": -480
    },
    "id": "yUU70FwTKovx",
    "outputId": "0096b895-04b9-41ae-8e06-75a9587bd3c1"
   },
   "outputs": [
    {
     "data": {
      "text/plain": [
       "array([0.98410549, 0.01589451])"
      ]
     },
     "execution_count": 4,
     "metadata": {},
     "output_type": "execute_result"
    }
   ],
   "source": [
    "from sklearn.decomposition import PCA\n",
    "pca = PCA(n_components = 2)\n",
    "data_compressed = pca.fit_transform(data)\n",
    "pca.explained_variance_ratio_"
   ]
  },
  {
   "cell_type": "code",
   "execution_count": 5,
   "metadata": {
    "colab": {
     "base_uri": "https://localhost:8080/",
     "height": 281
    },
    "executionInfo": {
     "elapsed": 347,
     "status": "ok",
     "timestamp": 1634657341691,
     "user": {
      "displayName": "Paul Chen",
      "photoUrl": "https://lh3.googleusercontent.com/a/default-user=s64",
      "userId": "15113937160468943492"
     },
     "user_tz": -480
    },
    "id": "Gv3KbDw5K38k",
    "outputId": "5cb074ba-7c78-4968-ab89-8ba8184513fc"
   },
   "outputs": [
    {
     "data": {
      "text/plain": [
       "<matplotlib.collections.PathCollection at 0x7f674d471f10>"
      ]
     },
     "execution_count": 5,
     "metadata": {},
     "output_type": "execute_result"
    },
    {
     "data": {
      "image/png": "[encoded data removed]",
      "text/plain": [
       "<Figure size 432x288 with 1 Axes>"
      ]
     },
     "metadata": {
      "needs_background": "light"
     },
     "output_type": "display_data"
    }
   ],
   "source": [
    "plt.axis('equal')\n",
    "plt.scatter(data_compressed[:,0], data_compressed[:,1])"
   ]
  },
  {
   "cell_type": "code",
   "execution_count": 6,
   "metadata": {
    "colab": {
     "base_uri": "https://localhost:8080/"
    },
    "executionInfo": {
     "elapsed": 315,
     "status": "ok",
     "timestamp": 1634657417348,
     "user": {
      "displayName": "Paul Chen",
      "photoUrl": "https://lh3.googleusercontent.com/a/default-user=s64",
      "userId": "15113937160468943492"
     },
     "user_tz": -480
    },
    "id": "a8tSegjyLKhd",
    "outputId": "59c88aa0-0261-4f62-aafc-54b5f311933d"
   },
   "outputs": [
    {
     "data": {
      "text/plain": [
       "array([[ 0.68029065,  0.73294245],\n",
       "       [ 0.73294245, -0.68029065]])"
      ]
     },
     "execution_count": 6,
     "metadata": {},
     "output_type": "execute_result"
    }
   ],
   "source": [
    "pca.components_"
   ]
  },
  {
   "cell_type": "markdown",
   "metadata": {
    "id": "L37KtUmjLkkL"
   },
   "source": [
    "The two components are the projections of all the points in the original dataset taken along the lines:\n",
    "\n",
    "0.68029 X1 + 0.7329 X2 (which is approximately the y = X line). The reason it is not exactly the y=X axis is because of the random noise that has skewed the data a little\n",
    "0.7329 X1 - 0.68029 X2"
   ]
  },
  {
   "cell_type": "code",
   "execution_count": 7,
   "metadata": {
    "colab": {
     "base_uri": "https://localhost:8080/",
     "height": 281
    },
    "executionInfo": {
     "elapsed": 356,
     "status": "ok",
     "timestamp": 1634657624532,
     "user": {
      "displayName": "Paul Chen",
      "photoUrl": "https://lh3.googleusercontent.com/a/default-user=s64",
      "userId": "15113937160468943492"
     },
     "user_tz": -480
    },
    "id": "OJxT6CuXL8-S",
    "outputId": "1943ca12-c1a3-40ed-f427-e2505cada4ca"
   },
   "outputs": [
    {
     "data": {
      "text/plain": [
       "<matplotlib.collections.PathCollection at 0x7f674a554eb0>"
      ]
     },
     "execution_count": 7,
     "metadata": {},
     "output_type": "execute_result"
    },
    {
     "data": {
      "image/png": "[encoded data removed]",
      "text/plain": [
       "<Figure size 432x288 with 1 Axes>"
      ]
     },
     "metadata": {
      "needs_background": "light"
     },
     "output_type": "display_data"
    }
   ],
   "source": [
    "pca = PCA(n_components = 1)\n",
    "data_compressed = pca.fit_transform(data)\n",
    "plt.scatter(data_compressed, [1]*20)"
   ]
  },
  {
   "cell_type": "code",
   "execution_count": 8,
   "metadata": {
    "colab": {
     "base_uri": "https://localhost:8080/"
    },
    "executionInfo": {
     "elapsed": 366,
     "status": "ok",
     "timestamp": 1634657743755,
     "user": {
      "displayName": "Paul Chen",
      "photoUrl": "https://lh3.googleusercontent.com/a/default-user=s64",
      "userId": "15113937160468943492"
     },
     "user_tz": -480
    },
    "id": "WuFoDiA-MYXM",
    "outputId": "22f5562e-3248-48ac-c3d3-6f22509bb7a9"
   },
   "outputs": [
    {
     "data": {
      "text/plain": [
       "array([[0.68029065, 0.73294245]])"
      ]
     },
     "execution_count": 8,
     "metadata": {},
     "output_type": "execute_result"
    }
   ],
   "source": [
    "pca.components_"
   ]
  },
  {
   "cell_type": "code",
   "execution_count": 9,
   "metadata": {
    "colab": {
     "base_uri": "https://localhost:8080/"
    },
    "executionInfo": {
     "elapsed": 417,
     "status": "ok",
     "timestamp": 1634657990254,
     "user": {
      "displayName": "Paul Chen",
      "photoUrl": "https://lh3.googleusercontent.com/a/default-user=s64",
      "userId": "15113937160468943492"
     },
     "user_tz": -480
    },
    "id": "DK1g-dxMMg8Z",
    "outputId": "966bed92-8920-41e2-9cb9-3b90980c76e3"
   },
   "outputs": [
    {
     "data": {
      "text/plain": [
       "array([[0.49671415, 1.46564877],\n",
       "       [0.8617357 , 0.7742237 ],\n",
       "       [2.64768854, 2.0675282 ],\n",
       "       [4.52302986, 1.57525181],\n",
       "       [3.76584663, 3.45561728]])"
      ]
     },
     "execution_count": 9,
     "metadata": {},
     "output_type": "execute_result"
    }
   ],
   "source": [
    "data[:5]"
   ]
  },
  {
   "cell_type": "code",
   "execution_count": 10,
   "metadata": {
    "colab": {
     "base_uri": "https://localhost:8080/"
    },
    "executionInfo": {
     "elapsed": 320,
     "status": "ok",
     "timestamp": 1634658010868,
     "user": {
      "displayName": "Paul Chen",
      "photoUrl": "https://lh3.googleusercontent.com/a/default-user=s64",
      "userId": "15113937160468943492"
     },
     "user_tz": -480
    },
    "id": "x5EnFjgbMqqR",
    "outputId": "89ee1627-03ea-40ef-91f2-eae09b29fbdd"
   },
   "outputs": [
    {
     "data": {
      "text/plain": [
       "array([[-11.70209097],\n",
       "       [-11.96054501],\n",
       "       [ -9.79766023],\n",
       "       [ -8.88269333],\n",
       "       [ -8.01959833]])"
      ]
     },
     "execution_count": 10,
     "metadata": {},
     "output_type": "execute_result"
    }
   ],
   "source": [
    "data_compressed[:5]"
   ]
  },
  {
   "cell_type": "markdown",
   "metadata": {
    "id": "uuroJLDAPa8R"
   },
   "source": [
    "# **Iris Dataset PCA**"
   ]
  },
  {
   "cell_type": "code",
   "execution_count": 11,
   "metadata": {
    "colab": {
     "base_uri": "https://localhost:8080/"
    },
    "executionInfo": {
     "elapsed": 355,
     "status": "ok",
     "timestamp": 1634658655883,
     "user": {
      "displayName": "Paul Chen",
      "photoUrl": "https://lh3.googleusercontent.com/a/default-user=s64",
      "userId": "15113937160468943492"
     },
     "user_tz": -480
    },
    "id": "NhXdnbCGOATc",
    "outputId": "c7de52ef-72b9-4e10-e3b4-00684ede987a"
   },
   "outputs": [
    {
     "name": "stdout",
     "output_type": "stream",
     "text": [
      "dict_keys(['data', 'target', 'frame', 'target_names', 'DESCR', 'feature_names', 'filename', 'data_module'])\n"
     ]
    }
   ],
   "source": [
    "from sklearn.datasets import load_iris\n",
    "iris = load_iris()\n",
    "print (iris.keys())"
   ]
  },
  {
   "cell_type": "markdown",
   "metadata": {
    "id": "ZkMAKTEPPgh_"
   },
   "source": []
  },
  {
   "cell_type": "code",
   "execution_count": 12,
   "metadata": {
    "colab": {
     "base_uri": "https://localhost:8080/"
    },
    "executionInfo": {
     "elapsed": 298,
     "status": "ok",
     "timestamp": 1634658193778,
     "user": {
      "displayName": "Paul Chen",
      "photoUrl": "https://lh3.googleusercontent.com/a/default-user=s64",
      "userId": "15113937160468943492"
     },
     "user_tz": -480
    },
    "id": "HJCbQVc2OIUt",
    "outputId": "84b9fd5c-0cd2-490c-9935-4053e8cb4cad"
   },
   "outputs": [
    {
     "data": {
      "text/plain": [
       "['sepal length (cm)',\n",
       " 'sepal width (cm)',\n",
       " 'petal length (cm)',\n",
       " 'petal width (cm)']"
      ]
     },
     "execution_count": 12,
     "metadata": {},
     "output_type": "execute_result"
    }
   ],
   "source": [
    "iris.feature_names"
   ]
  },
  {
   "cell_type": "code",
   "execution_count": 13,
   "metadata": {
    "colab": {
     "base_uri": "https://localhost:8080/"
    },
    "executionInfo": {
     "elapsed": 304,
     "status": "ok",
     "timestamp": 1634658268300,
     "user": {
      "displayName": "Paul Chen",
      "photoUrl": "https://lh3.googleusercontent.com/a/default-user=s64",
      "userId": "15113937160468943492"
     },
     "user_tz": -480
    },
    "id": "7Z-zEGylOPDx",
    "outputId": "328ede3b-a833-4be3-aac2-747be100577e"
   },
   "outputs": [
    {
     "name": "stdout",
     "output_type": "stream",
     "text": [
      "(150, 2)\n"
     ]
    }
   ],
   "source": [
    "#importing and instantiating PCA with 2 components.\n",
    "from sklearn.decomposition import PCA\n",
    "pca = PCA(n_components = 2)\n",
    "#Fitting PCA to the iris dataset and transforming it into 2 principal components\n",
    "X, y = iris.data, iris.target\n",
    "X_proj = pca.fit_transform(X)\n",
    "print (X_proj.shape)"
   ]
  },
  {
   "cell_type": "code",
   "execution_count": 14,
   "metadata": {
    "colab": {
     "base_uri": "https://localhost:8080/",
     "height": 284
    },
    "executionInfo": {
     "elapsed": 593,
     "status": "ok",
     "timestamp": 1634658318204,
     "user": {
      "displayName": "Paul Chen",
      "photoUrl": "https://lh3.googleusercontent.com/a/default-user=s64",
      "userId": "15113937160468943492"
     },
     "user_tz": -480
    },
    "id": "g6uQsji3OIHH",
    "outputId": "46f36cd4-6b72-4e70-e9f3-d58bd33f878d"
   },
   "outputs": [
    {
     "data": {
      "image/png": "[encoded data removed]",
      "text/plain": [
       "<Figure size 432x288 with 1 Axes>"
      ]
     },
     "metadata": {
      "needs_background": "light"
     },
     "output_type": "display_data"
    }
   ],
   "source": [
    "%matplotlib inline\n",
    "import numpy as np\n",
    "import matplotlib.pyplot as plt\n",
    "        \n",
    "#Plotting the principal components\n",
    "plt.scatter(X_proj[:,0], X_proj[:,1],c=y)\n",
    "plt.xlabel(\"PC_1\")\n",
    "plt.ylabel(\"PC_2\")\n",
    "plt.show()"
   ]
  },
  {
   "cell_type": "code",
   "execution_count": 15,
   "metadata": {
    "colab": {
     "base_uri": "https://localhost:8080/"
    },
    "executionInfo": {
     "elapsed": 346,
     "status": "ok",
     "timestamp": 1634658420219,
     "user": {
      "displayName": "Paul Chen",
      "photoUrl": "https://lh3.googleusercontent.com/a/default-user=s64",
      "userId": "15113937160468943492"
     },
     "user_tz": -480
    },
    "id": "nMsyJBzYOwdW",
    "outputId": "5d4f9d4e-8b9a-48d3-89e6-f84f63b863df"
   },
   "outputs": [
    {
     "name": "stdout",
     "output_type": "stream",
     "text": [
      "Meaning of the 2 components:\n",
      "0.36 x sepal length (cm) + -0.08 x sepal width (cm) + 0.86 x petal length (cm) + 0.36 x petal width (cm)\n",
      "0.66 x sepal length (cm) + 0.73 x sepal width (cm) + -0.17 x petal length (cm) + -0.08 x petal width (cm)\n"
     ]
    }
   ],
   "source": [
    "print (\"Meaning of the 2 components:\")\n",
    "for component in pca.components_:\n",
    "  print (\" + \".join(\"%.2f x %s\" % (value, name)\n",
    "    for value, name in zip(component, iris.feature_names)))"
   ]
  },
  {
   "cell_type": "code",
   "execution_count": 16,
   "metadata": {
    "colab": {
     "base_uri": "https://localhost:8080/"
    },
    "executionInfo": {
     "elapsed": 343,
     "status": "ok",
     "timestamp": 1634658501171,
     "user": {
      "displayName": "Paul Chen",
      "photoUrl": "https://lh3.googleusercontent.com/a/default-user=s64",
      "userId": "15113937160468943492"
     },
     "user_tz": -480
    },
    "id": "sZZLY87oPKUF",
    "outputId": "04363990-1151-4343-f009-1bd6a9ff9088"
   },
   "outputs": [
    {
     "data": {
      "text/plain": [
       "array([0.92461872, 0.05306648])"
      ]
     },
     "execution_count": 16,
     "metadata": {},
     "output_type": "execute_result"
    }
   ],
   "source": [
    "pca.explained_variance_ratio_"
   ]
  },
  {
   "cell_type": "markdown",
   "metadata": {
    "id": "9YUV8MgnPh-F"
   },
   "source": [
    "# **Digit Dataset PCA**"
   ]
  },
  {
   "cell_type": "code",
   "execution_count": 17,
   "metadata": {
    "colab": {
     "base_uri": "https://localhost:8080/"
    },
    "executionInfo": {
     "elapsed": 313,
     "status": "ok",
     "timestamp": 1634658613079,
     "user": {
      "displayName": "Paul Chen",
      "photoUrl": "https://lh3.googleusercontent.com/a/default-user=s64",
      "userId": "15113937160468943492"
     },
     "user_tz": -480
    },
    "id": "hmt93YTaPKDW",
    "outputId": "1dcc45e4-bbfb-4fb4-9e82-69159d6450c7"
   },
   "outputs": [
    {
     "name": "stdout",
     "output_type": "stream",
     "text": [
      "dict_keys(['data', 'target', 'frame', 'feature_names', 'target_names', 'images', 'DESCR'])\n"
     ]
    }
   ],
   "source": [
    "from sklearn.datasets import load_digits\n",
    "digits = load_digits()\n",
    "print (digits.keys())"
   ]
  },
  {
   "cell_type": "code",
   "execution_count": 18,
   "metadata": {
    "colab": {
     "base_uri": "https://localhost:8080/"
    },
    "executionInfo": {
     "elapsed": 310,
     "status": "ok",
     "timestamp": 1634658714603,
     "user": {
      "displayName": "Paul Chen",
      "photoUrl": "https://lh3.googleusercontent.com/a/default-user=s64",
      "userId": "15113937160468943492"
     },
     "user_tz": -480
    },
    "id": "val5LiGAQCsy",
    "outputId": "464a5601-3203-4d0d-94ab-f2c2fef2025c"
   },
   "outputs": [
    {
     "name": "stdout",
     "output_type": "stream",
     "text": [
      "(1797, 64)\n",
      "(1797, 8, 8)\n"
     ]
    }
   ],
   "source": [
    "#looking at data, there looks to be 64 features, what are these?\n",
    "print (digits.data.shape)\n",
    "#another available dataset is called images. Let's check this out.\n",
    "print (digits.images.shape)\n",
    "        \n",
    "#So, the features are nothing but a reshape of the images data 8X8 pixels thrown next to each other describing the  \n",
    "#intensity of each pixel. The imput is a set of images of digits from which we need to learn the target, \n",
    "#which is the actual digit itself."
   ]
  },
  {
   "cell_type": "code",
   "execution_count": 19,
   "metadata": {
    "colab": {
     "base_uri": "https://localhost:8080/"
    },
    "executionInfo": {
     "elapsed": 357,
     "status": "ok",
     "timestamp": 1634658763143,
     "user": {
      "displayName": "Paul Chen",
      "photoUrl": "https://lh3.googleusercontent.com/a/default-user=s64",
      "userId": "15113937160468943492"
     },
     "user_tz": -480
    },
    "id": "ZxAAmmh1QRHX",
    "outputId": "04f07927-002b-485a-f129-3c21d583bb22"
   },
   "outputs": [
    {
     "name": "stdout",
     "output_type": "stream",
     "text": [
      "0.2850936482369816\n"
     ]
    }
   ],
   "source": [
    "#Let's run PCA with 2 components so as to plot the data in 2D\n",
    "X,y = digits.data, digits.target\n",
    "pca_digits=PCA(2)\n",
    "X_proj = pca_digits.fit_transform(X)\n",
    "print (np.sum(pca_digits.explained_variance_ratio_))"
   ]
  },
  {
   "cell_type": "code",
   "execution_count": 20,
   "metadata": {
    "colab": {
     "base_uri": "https://localhost:8080/",
     "height": 284
    },
    "executionInfo": {
     "elapsed": 685,
     "status": "ok",
     "timestamp": 1634658844936,
     "user": {
      "displayName": "Paul Chen",
      "photoUrl": "https://lh3.googleusercontent.com/a/default-user=s64",
      "userId": "15113937160468943492"
     },
     "user_tz": -480
    },
    "id": "GIVyudA9QQ2K",
    "outputId": "b4fa68c2-d3a2-4397-ee41-b378f55e7364"
   },
   "outputs": [
    {
     "data": {
      "image/png": "[encoded data removed]",
      "text/plain": [
       "<Figure size 432x288 with 2 Axes>"
      ]
     },
     "metadata": {
      "needs_background": "light"
     },
     "output_type": "display_data"
    }
   ],
   "source": [
    "#Plotting the principal components as a scatter plot\n",
    "plt.scatter(X_proj[:,0], X_proj[:,1], c=y)\n",
    "plt.colorbar()\n",
    "plt.xlabel(\"PC_1\")\n",
    "plt.ylabel(\"PC_2\")\n",
    "plt.show()"
   ]
  },
  {
   "cell_type": "code",
   "execution_count": null,
   "metadata": {},
   "outputs": [],
   "source": []
  },
  {
   "cell_type": "code",
   "execution_count": null,
   "metadata": {},
   "outputs": [],
   "source": []
  },
  {
   "cell_type": "code",
   "execution_count": null,
   "metadata": {},
   "outputs": [],
   "source": []
  },
  {
   "cell_type": "code",
   "execution_count": null,
   "metadata": {},
   "outputs": [],
   "source": []
  },
  {
   "cell_type": "code",
   "execution_count": null,
   "metadata": {},
   "outputs": [],
   "source": []
  },
  {
   "cell_type": "code",
   "execution_count": null,
   "metadata": {},
   "outputs": [],
   "source": []
  },
  {
   "cell_type": "code",
   "execution_count": null,
   "metadata": {},
   "outputs": [],
   "source": []
  },
  {
   "cell_type": "code",
   "execution_count": null,
   "metadata": {},
   "outputs": [],
   "source": []
  },
  {
   "cell_type": "code",
   "execution_count": null,
   "metadata": {},
   "outputs": [],
   "source": []
  },
  {
   "cell_type": "code",
   "execution_count": null,
   "metadata": {},
   "outputs": [],
   "source": []
  },
  {
   "cell_type": "code",
   "execution_count": null,
   "metadata": {},
   "outputs": [],
   "source": []
  },
  {
   "cell_type": "code",
   "execution_count": null,
   "metadata": {},
   "outputs": [],
   "source": []
  }
 ],
 "metadata": {
  "colab": {
   "authorship_tag": "ABX9TyPdTL8htrYhvQAsx8xhWajl",
   "name": "PCA_Intuition.ipynb",
   "provenance": []
  },
  "kernelspec": {
   "display_name": "Python 3 (ipykernel)",
   "language": "python",
   "name": "python3"
  },
  "language_info": {
   "codemirror_mode": {
    "name": "ipython",
    "version": 3
   },
   "file_extension": ".py",
   "mimetype": "text/x-python",
   "name": "python",
   "nbconvert_exporter": "python",
   "pygments_lexer": "ipython3",
   "version": "3.9.7"
  }
 },
 "nbformat": 4,
 "nbformat_minor": 4
}
